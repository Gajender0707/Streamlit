{
 "cells": [
  {
   "cell_type": "code",
   "execution_count": 1,
   "id": "3bd79720",
   "metadata": {},
   "outputs": [],
   "source": [
    "import pandas as pd\n",
    "import streamlit as st"
   ]
  },
  {
   "cell_type": "code",
   "execution_count": 2,
   "id": "b3f81775",
   "metadata": {},
   "outputs": [],
   "source": [
    "data=pd.read_csv(\"car data.csv\")"
   ]
  },
  {
   "cell_type": "code",
   "execution_count": 3,
   "id": "5de11ea0",
   "metadata": {},
   "outputs": [
    {
     "data": {
      "text/html": [
       "<div>\n",
       "<style scoped>\n",
       "    .dataframe tbody tr th:only-of-type {\n",
       "        vertical-align: middle;\n",
       "    }\n",
       "\n",
       "    .dataframe tbody tr th {\n",
       "        vertical-align: top;\n",
       "    }\n",
       "\n",
       "    .dataframe thead th {\n",
       "        text-align: right;\n",
       "    }\n",
       "</style>\n",
       "<table border=\"1\" class=\"dataframe\">\n",
       "  <thead>\n",
       "    <tr style=\"text-align: right;\">\n",
       "      <th></th>\n",
       "      <th>Car_Name</th>\n",
       "      <th>Year</th>\n",
       "      <th>Selling_Price</th>\n",
       "      <th>Present_Price</th>\n",
       "      <th>Kms_Driven</th>\n",
       "      <th>Fuel_Type</th>\n",
       "      <th>Seller_Type</th>\n",
       "      <th>Transmission</th>\n",
       "      <th>Owner</th>\n",
       "    </tr>\n",
       "  </thead>\n",
       "  <tbody>\n",
       "    <tr>\n",
       "      <th>0</th>\n",
       "      <td>ritz</td>\n",
       "      <td>2014</td>\n",
       "      <td>3.35</td>\n",
       "      <td>5.59</td>\n",
       "      <td>27000</td>\n",
       "      <td>Petrol</td>\n",
       "      <td>Dealer</td>\n",
       "      <td>Manual</td>\n",
       "      <td>0</td>\n",
       "    </tr>\n",
       "    <tr>\n",
       "      <th>1</th>\n",
       "      <td>sx4</td>\n",
       "      <td>2013</td>\n",
       "      <td>4.75</td>\n",
       "      <td>9.54</td>\n",
       "      <td>43000</td>\n",
       "      <td>Diesel</td>\n",
       "      <td>Dealer</td>\n",
       "      <td>Manual</td>\n",
       "      <td>0</td>\n",
       "    </tr>\n",
       "    <tr>\n",
       "      <th>2</th>\n",
       "      <td>ciaz</td>\n",
       "      <td>2017</td>\n",
       "      <td>7.25</td>\n",
       "      <td>9.85</td>\n",
       "      <td>6900</td>\n",
       "      <td>Petrol</td>\n",
       "      <td>Dealer</td>\n",
       "      <td>Manual</td>\n",
       "      <td>0</td>\n",
       "    </tr>\n",
       "    <tr>\n",
       "      <th>3</th>\n",
       "      <td>wagon r</td>\n",
       "      <td>2011</td>\n",
       "      <td>2.85</td>\n",
       "      <td>4.15</td>\n",
       "      <td>5200</td>\n",
       "      <td>Petrol</td>\n",
       "      <td>Dealer</td>\n",
       "      <td>Manual</td>\n",
       "      <td>0</td>\n",
       "    </tr>\n",
       "    <tr>\n",
       "      <th>4</th>\n",
       "      <td>swift</td>\n",
       "      <td>2014</td>\n",
       "      <td>4.60</td>\n",
       "      <td>6.87</td>\n",
       "      <td>42450</td>\n",
       "      <td>Diesel</td>\n",
       "      <td>Dealer</td>\n",
       "      <td>Manual</td>\n",
       "      <td>0</td>\n",
       "    </tr>\n",
       "  </tbody>\n",
       "</table>\n",
       "</div>"
      ],
      "text/plain": [
       "  Car_Name  Year  Selling_Price  Present_Price  Kms_Driven Fuel_Type  \\\n",
       "0     ritz  2014           3.35           5.59       27000    Petrol   \n",
       "1      sx4  2013           4.75           9.54       43000    Diesel   \n",
       "2     ciaz  2017           7.25           9.85        6900    Petrol   \n",
       "3  wagon r  2011           2.85           4.15        5200    Petrol   \n",
       "4    swift  2014           4.60           6.87       42450    Diesel   \n",
       "\n",
       "  Seller_Type Transmission  Owner  \n",
       "0      Dealer       Manual      0  \n",
       "1      Dealer       Manual      0  \n",
       "2      Dealer       Manual      0  \n",
       "3      Dealer       Manual      0  \n",
       "4      Dealer       Manual      0  "
      ]
     },
     "execution_count": 3,
     "metadata": {},
     "output_type": "execute_result"
    }
   ],
   "source": [
    "data.head()"
   ]
  },
  {
   "cell_type": "code",
   "execution_count": 4,
   "id": "01509139",
   "metadata": {},
   "outputs": [],
   "source": [
    "data1=pd.read_csv(\"Customer_Payment.csv\")"
   ]
  },
  {
   "cell_type": "code",
   "execution_count": 5,
   "id": "db8c60ca",
   "metadata": {},
   "outputs": [
    {
     "data": {
      "text/html": [
       "<div>\n",
       "<style scoped>\n",
       "    .dataframe tbody tr th:only-of-type {\n",
       "        vertical-align: middle;\n",
       "    }\n",
       "\n",
       "    .dataframe tbody tr th {\n",
       "        vertical-align: top;\n",
       "    }\n",
       "\n",
       "    .dataframe thead th {\n",
       "        text-align: right;\n",
       "    }\n",
       "</style>\n",
       "<table border=\"1\" class=\"dataframe\">\n",
       "  <thead>\n",
       "    <tr style=\"text-align: right;\">\n",
       "      <th></th>\n",
       "      <th>Payment ID</th>\n",
       "      <th>Payment Number</th>\n",
       "      <th>Payment Date</th>\n",
       "      <th>Customer ID</th>\n",
       "      <th>Amount (BCY)</th>\n",
       "      <th>Unused Amount (BCY)</th>\n",
       "      <th>Created Time</th>\n",
       "      <th>Exchange Rate</th>\n",
       "      <th>Account ID</th>\n",
       "      <th>Refund Amount (BCY)</th>\n",
       "      <th>...</th>\n",
       "      <th>Bank Charges (BCY)</th>\n",
       "      <th>Withholding Tax (BCY)</th>\n",
       "      <th>Withholding Tax (FCY)</th>\n",
       "      <th>Reference Number</th>\n",
       "      <th>Created By</th>\n",
       "      <th>Modified By</th>\n",
       "      <th>Branch ID</th>\n",
       "      <th>Gateway Transaction ID</th>\n",
       "      <th>Cheque NO</th>\n",
       "      <th>today less payment date</th>\n",
       "    </tr>\n",
       "  </thead>\n",
       "  <tbody>\n",
       "    <tr>\n",
       "      <th>0</th>\n",
       "      <td>2485984000001571019</td>\n",
       "      <td>B-IP-21-22-0013</td>\n",
       "      <td>02/04/2021</td>\n",
       "      <td>2485984000001622103</td>\n",
       "      <td>INR 36,166.00</td>\n",
       "      <td>INR 36,166.00</td>\n",
       "      <td>2021-04-07 16:04:22</td>\n",
       "      <td>1.0</td>\n",
       "      <td>2485984000001189097</td>\n",
       "      <td>INR 0.00</td>\n",
       "      <td>...</td>\n",
       "      <td>INR 0.00</td>\n",
       "      <td>INR 0.00</td>\n",
       "      <td>INR 0.00</td>\n",
       "      <td>Sender No:SBIN221092835606</td>\n",
       "      <td>2485984000001246031</td>\n",
       "      <td>2485984000000072202</td>\n",
       "      <td>2485984000001189131</td>\n",
       "      <td>NaN</td>\n",
       "      <td>NaN</td>\n",
       "      <td>514</td>\n",
       "    </tr>\n",
       "    <tr>\n",
       "      <th>1</th>\n",
       "      <td>2485984000001571035</td>\n",
       "      <td>17</td>\n",
       "      <td>02/04/2021</td>\n",
       "      <td>2485984000001523005</td>\n",
       "      <td>INR 9,971.00</td>\n",
       "      <td>INR 0.00</td>\n",
       "      <td>2021-04-07 16:05:42</td>\n",
       "      <td>1.0</td>\n",
       "      <td>2485984000001189097</td>\n",
       "      <td>INR 0.00</td>\n",
       "      <td>...</td>\n",
       "      <td>INR 0.00</td>\n",
       "      <td>INR 0.00</td>\n",
       "      <td>INR 0.00</td>\n",
       "      <td>Sender No:KKBK210924164986</td>\n",
       "      <td>2485984000001246031</td>\n",
       "      <td>2485984000000072202</td>\n",
       "      <td>2485984000001057368</td>\n",
       "      <td>NaN</td>\n",
       "      <td>NaN</td>\n",
       "      <td>514</td>\n",
       "    </tr>\n",
       "    <tr>\n",
       "      <th>2</th>\n",
       "      <td>2485984000001571096</td>\n",
       "      <td>8</td>\n",
       "      <td>02/04/2021</td>\n",
       "      <td>2485984000001571053</td>\n",
       "      <td>INR 57,238.00</td>\n",
       "      <td>INR 0.00</td>\n",
       "      <td>2021-04-07 16:18:22</td>\n",
       "      <td>1.0</td>\n",
       "      <td>2485984000001189097</td>\n",
       "      <td>INR 0.00</td>\n",
       "      <td>...</td>\n",
       "      <td>INR 0.00</td>\n",
       "      <td>INR 0.00</td>\n",
       "      <td>INR 0.00</td>\n",
       "      <td>Sender No:ICIJ210920004285</td>\n",
       "      <td>2485984000001246031</td>\n",
       "      <td>2485984000001266005</td>\n",
       "      <td>2485984000001057007</td>\n",
       "      <td>NaN</td>\n",
       "      <td>NaN</td>\n",
       "      <td>514</td>\n",
       "    </tr>\n",
       "    <tr>\n",
       "      <th>3</th>\n",
       "      <td>2485984000001571112</td>\n",
       "      <td>9</td>\n",
       "      <td>03/04/2021</td>\n",
       "      <td>2485984000001623424</td>\n",
       "      <td>INR 139,352.00</td>\n",
       "      <td>INR 0.00</td>\n",
       "      <td>2021-04-07 16:20:57</td>\n",
       "      <td>1.0</td>\n",
       "      <td>2485984000001189097</td>\n",
       "      <td>INR 0.00</td>\n",
       "      <td>...</td>\n",
       "      <td>INR 0.00</td>\n",
       "      <td>INR 0.00</td>\n",
       "      <td>INR 0.00</td>\n",
       "      <td>Sender No:BARBU21093135625</td>\n",
       "      <td>2485984000001246031</td>\n",
       "      <td>2485984000000072202</td>\n",
       "      <td>2485984000001057007</td>\n",
       "      <td>NaN</td>\n",
       "      <td>NaN</td>\n",
       "      <td>513</td>\n",
       "    </tr>\n",
       "    <tr>\n",
       "      <th>4</th>\n",
       "      <td>2485984000001571128</td>\n",
       "      <td>M-IP-21-22-016</td>\n",
       "      <td>03/04/2021</td>\n",
       "      <td>2485984000001595962</td>\n",
       "      <td>INR 67,248.00</td>\n",
       "      <td>INR 0.00</td>\n",
       "      <td>2021-04-07 16:23:34</td>\n",
       "      <td>1.0</td>\n",
       "      <td>2485984000001189097</td>\n",
       "      <td>INR 0.00</td>\n",
       "      <td>...</td>\n",
       "      <td>INR 0.00</td>\n",
       "      <td>INR 0.00</td>\n",
       "      <td>INR 0.00</td>\n",
       "      <td>Sender No:SBIN421093532265</td>\n",
       "      <td>2485984000001246031</td>\n",
       "      <td>2485984000000072202</td>\n",
       "      <td>2485984000001057278</td>\n",
       "      <td>NaN</td>\n",
       "      <td>NaN</td>\n",
       "      <td>513</td>\n",
       "    </tr>\n",
       "  </tbody>\n",
       "</table>\n",
       "<p>5 rows × 28 columns</p>\n",
       "</div>"
      ],
      "text/plain": [
       "            Payment ID   Payment Number Payment Date          Customer ID  \\\n",
       "0  2485984000001571019  B-IP-21-22-0013   02/04/2021  2485984000001622103   \n",
       "1  2485984000001571035               17   02/04/2021  2485984000001523005   \n",
       "2  2485984000001571096                8   02/04/2021  2485984000001571053   \n",
       "3  2485984000001571112                9   03/04/2021  2485984000001623424   \n",
       "4  2485984000001571128   M-IP-21-22-016   03/04/2021  2485984000001595962   \n",
       "\n",
       "     Amount (BCY) Unused Amount (BCY)         Created Time  Exchange Rate  \\\n",
       "0   INR 36,166.00       INR 36,166.00  2021-04-07 16:04:22            1.0   \n",
       "1    INR 9,971.00            INR 0.00  2021-04-07 16:05:42            1.0   \n",
       "2   INR 57,238.00            INR 0.00  2021-04-07 16:18:22            1.0   \n",
       "3  INR 139,352.00            INR 0.00  2021-04-07 16:20:57            1.0   \n",
       "4   INR 67,248.00            INR 0.00  2021-04-07 16:23:34            1.0   \n",
       "\n",
       "            Account ID Refund Amount (BCY)  ... Bank Charges (BCY)  \\\n",
       "0  2485984000001189097            INR 0.00  ...           INR 0.00   \n",
       "1  2485984000001189097            INR 0.00  ...           INR 0.00   \n",
       "2  2485984000001189097            INR 0.00  ...           INR 0.00   \n",
       "3  2485984000001189097            INR 0.00  ...           INR 0.00   \n",
       "4  2485984000001189097            INR 0.00  ...           INR 0.00   \n",
       "\n",
       "  Withholding Tax (BCY) Withholding Tax (FCY)            Reference Number  \\\n",
       "0              INR 0.00              INR 0.00  Sender No:SBIN221092835606   \n",
       "1              INR 0.00              INR 0.00  Sender No:KKBK210924164986   \n",
       "2              INR 0.00              INR 0.00  Sender No:ICIJ210920004285   \n",
       "3              INR 0.00              INR 0.00  Sender No:BARBU21093135625   \n",
       "4              INR 0.00              INR 0.00  Sender No:SBIN421093532265   \n",
       "\n",
       "            Created By          Modified By            Branch ID  \\\n",
       "0  2485984000001246031  2485984000000072202  2485984000001189131   \n",
       "1  2485984000001246031  2485984000000072202  2485984000001057368   \n",
       "2  2485984000001246031  2485984000001266005  2485984000001057007   \n",
       "3  2485984000001246031  2485984000000072202  2485984000001057007   \n",
       "4  2485984000001246031  2485984000000072202  2485984000001057278   \n",
       "\n",
       "  Gateway Transaction ID Cheque NO today less payment date  \n",
       "0                    NaN       NaN                     514  \n",
       "1                    NaN       NaN                     514  \n",
       "2                    NaN       NaN                     514  \n",
       "3                    NaN       NaN                     513  \n",
       "4                    NaN       NaN                     513  \n",
       "\n",
       "[5 rows x 28 columns]"
      ]
     },
     "execution_count": 5,
     "metadata": {},
     "output_type": "execute_result"
    }
   ],
   "source": [
    "data1.head()"
   ]
  },
  {
   "cell_type": "code",
   "execution_count": 6,
   "id": "c1618945",
   "metadata": {},
   "outputs": [
    {
     "data": {
      "text/plain": [
       "(301, 9)"
      ]
     },
     "execution_count": 6,
     "metadata": {},
     "output_type": "execute_result"
    }
   ],
   "source": [
    "data.shape"
   ]
  },
  {
   "cell_type": "code",
   "execution_count": 8,
   "id": "e7188f51",
   "metadata": {},
   "outputs": [
    {
     "data": {
      "text/html": [
       "<div>\n",
       "<style scoped>\n",
       "    .dataframe tbody tr th:only-of-type {\n",
       "        vertical-align: middle;\n",
       "    }\n",
       "\n",
       "    .dataframe tbody tr th {\n",
       "        vertical-align: top;\n",
       "    }\n",
       "\n",
       "    .dataframe thead th {\n",
       "        text-align: right;\n",
       "    }\n",
       "</style>\n",
       "<table border=\"1\" class=\"dataframe\">\n",
       "  <thead>\n",
       "    <tr style=\"text-align: right;\">\n",
       "      <th></th>\n",
       "      <th>Car_Name</th>\n",
       "      <th>Year</th>\n",
       "      <th>Selling_Price</th>\n",
       "      <th>Present_Price</th>\n",
       "      <th>Kms_Driven</th>\n",
       "      <th>Fuel_Type</th>\n",
       "      <th>Seller_Type</th>\n",
       "      <th>Transmission</th>\n",
       "      <th>Owner</th>\n",
       "    </tr>\n",
       "  </thead>\n",
       "  <tbody>\n",
       "    <tr>\n",
       "      <th>0</th>\n",
       "      <td>ritz</td>\n",
       "      <td>2014</td>\n",
       "      <td>3.35</td>\n",
       "      <td>5.59</td>\n",
       "      <td>27000</td>\n",
       "      <td>Petrol</td>\n",
       "      <td>Dealer</td>\n",
       "      <td>Manual</td>\n",
       "      <td>0</td>\n",
       "    </tr>\n",
       "    <tr>\n",
       "      <th>1</th>\n",
       "      <td>sx4</td>\n",
       "      <td>2013</td>\n",
       "      <td>4.75</td>\n",
       "      <td>9.54</td>\n",
       "      <td>43000</td>\n",
       "      <td>Diesel</td>\n",
       "      <td>Dealer</td>\n",
       "      <td>Manual</td>\n",
       "      <td>0</td>\n",
       "    </tr>\n",
       "    <tr>\n",
       "      <th>2</th>\n",
       "      <td>ciaz</td>\n",
       "      <td>2017</td>\n",
       "      <td>7.25</td>\n",
       "      <td>9.85</td>\n",
       "      <td>6900</td>\n",
       "      <td>Petrol</td>\n",
       "      <td>Dealer</td>\n",
       "      <td>Manual</td>\n",
       "      <td>0</td>\n",
       "    </tr>\n",
       "    <tr>\n",
       "      <th>3</th>\n",
       "      <td>wagon r</td>\n",
       "      <td>2011</td>\n",
       "      <td>2.85</td>\n",
       "      <td>4.15</td>\n",
       "      <td>5200</td>\n",
       "      <td>Petrol</td>\n",
       "      <td>Dealer</td>\n",
       "      <td>Manual</td>\n",
       "      <td>0</td>\n",
       "    </tr>\n",
       "    <tr>\n",
       "      <th>4</th>\n",
       "      <td>swift</td>\n",
       "      <td>2014</td>\n",
       "      <td>4.60</td>\n",
       "      <td>6.87</td>\n",
       "      <td>42450</td>\n",
       "      <td>Diesel</td>\n",
       "      <td>Dealer</td>\n",
       "      <td>Manual</td>\n",
       "      <td>0</td>\n",
       "    </tr>\n",
       "  </tbody>\n",
       "</table>\n",
       "</div>"
      ],
      "text/plain": [
       "  Car_Name  Year  Selling_Price  Present_Price  Kms_Driven Fuel_Type  \\\n",
       "0     ritz  2014           3.35           5.59       27000    Petrol   \n",
       "1      sx4  2013           4.75           9.54       43000    Diesel   \n",
       "2     ciaz  2017           7.25           9.85        6900    Petrol   \n",
       "3  wagon r  2011           2.85           4.15        5200    Petrol   \n",
       "4    swift  2014           4.60           6.87       42450    Diesel   \n",
       "\n",
       "  Seller_Type Transmission  Owner  \n",
       "0      Dealer       Manual      0  \n",
       "1      Dealer       Manual      0  \n",
       "2      Dealer       Manual      0  \n",
       "3      Dealer       Manual      0  \n",
       "4      Dealer       Manual      0  "
      ]
     },
     "execution_count": 8,
     "metadata": {},
     "output_type": "execute_result"
    }
   ],
   "source": [
    "data.head()"
   ]
  },
  {
   "cell_type": "code",
   "execution_count": 9,
   "id": "10b89fd6",
   "metadata": {},
   "outputs": [
    {
     "ename": "TypeError",
     "evalue": "bar_chart() takes from 1 to 2 positional arguments but 3 were given",
     "output_type": "error",
     "traceback": [
      "\u001b[1;31m---------------------------------------------------------------------------\u001b[0m",
      "\u001b[1;31mTypeError\u001b[0m                                 Traceback (most recent call last)",
      "\u001b[1;32m~\\AppData\\Local\\Temp/ipykernel_20952/4172816754.py\u001b[0m in \u001b[0;36m<module>\u001b[1;34m\u001b[0m\n\u001b[1;32m----> 1\u001b[1;33m \u001b[0mst\u001b[0m\u001b[1;33m.\u001b[0m\u001b[0mbar_chart\u001b[0m\u001b[1;33m(\u001b[0m\u001b[0mdata\u001b[0m\u001b[1;33m[\u001b[0m\u001b[1;34m\"Fuel_Type\"\u001b[0m\u001b[1;33m]\u001b[0m\u001b[1;33m,\u001b[0m\u001b[0mdata\u001b[0m\u001b[1;33m[\u001b[0m\u001b[1;34m\"Selling_Price\"\u001b[0m\u001b[1;33m]\u001b[0m\u001b[1;33m)\u001b[0m\u001b[1;33m\u001b[0m\u001b[1;33m\u001b[0m\u001b[0m\n\u001b[0m",
      "\u001b[1;31mTypeError\u001b[0m: bar_chart() takes from 1 to 2 positional arguments but 3 were given"
     ]
    }
   ],
   "source": [
    "st.bar_chart(data[\"Fuel_Type\"],data[\"Selling_Price\"])"
   ]
  },
  {
   "cell_type": "code",
   "execution_count": 11,
   "id": "86e095d4",
   "metadata": {},
   "outputs": [
    {
     "data": {
      "text/plain": [
       "Petrol    239\n",
       "Diesel     60\n",
       "CNG         2\n",
       "Name: Fuel_Type, dtype: int64"
      ]
     },
     "execution_count": 11,
     "metadata": {},
     "output_type": "execute_result"
    }
   ],
   "source": [
    "data[\"Fuel_Type\"].value_counts()"
   ]
  },
  {
   "cell_type": "code",
   "execution_count": 12,
   "id": "586d3118",
   "metadata": {},
   "outputs": [
    {
     "data": {
      "text/plain": [
       "0       3.35\n",
       "1       4.75\n",
       "2       7.25\n",
       "3       2.85\n",
       "4       4.60\n",
       "       ...  \n",
       "296     9.50\n",
       "297     4.00\n",
       "298     3.35\n",
       "299    11.50\n",
       "300     5.30\n",
       "Name: Selling_Price, Length: 301, dtype: float64"
      ]
     },
     "execution_count": 12,
     "metadata": {},
     "output_type": "execute_result"
    }
   ],
   "source": [
    "data[\"Selling_Price\"]"
   ]
  },
  {
   "cell_type": "code",
   "execution_count": 13,
   "id": "070a7540",
   "metadata": {},
   "outputs": [],
   "source": [
    "import seaborn as sns"
   ]
  },
  {
   "cell_type": "code",
   "execution_count": 14,
   "id": "4b2599c8",
   "metadata": {},
   "outputs": [
    {
     "name": "stderr",
     "output_type": "stream",
     "text": [
      "c:\\python\\lib\\site-packages\\seaborn\\_decorators.py:36: FutureWarning: Pass the following variables as keyword args: x, y. From version 0.12, the only valid positional argument will be `data`, and passing other arguments without an explicit keyword will result in an error or misinterpretation.\n",
      "  warnings.warn(\n"
     ]
    },
    {
     "data": {
      "text/plain": [
       "<AxesSubplot:xlabel='Fuel_Type', ylabel='Selling_Price'>"
      ]
     },
     "execution_count": 14,
     "metadata": {},
     "output_type": "execute_result"
    },
    {
     "data": {
      "image/png": "[encoded data removed]",
      "text/plain": [
       "<Figure size 432x288 with 1 Axes>"
      ]
     },
     "metadata": {
      "needs_background": "light"
     },
     "output_type": "display_data"
    }
   ],
   "source": [
    "sns.barplot(data[\"Fuel_Type\"],data[\"Selling_Price\"])"
   ]
  },
  {
   "cell_type": "code",
   "execution_count": null,
   "id": "e3f42e59",
   "metadata": {},
   "outputs": [],
   "source": []
  }
 ],
 "metadata": {
  "kernelspec": {
   "display_name": "Python 3 (ipykernel)",
   "language": "python",
   "name": "python3"
  },
  "language_info": {
   "codemirror_mode": {
    "name": "ipython",
    "version": 3
   },
   "file_extension": ".py",
   "mimetype": "text/x-python",
   "name": "python",
   "nbconvert_exporter": "python",
   "pygments_lexer": "ipython3",
   "version": "3.9.4"
  }
 },
 "nbformat": 4,
 "nbformat_minor": 5
}
